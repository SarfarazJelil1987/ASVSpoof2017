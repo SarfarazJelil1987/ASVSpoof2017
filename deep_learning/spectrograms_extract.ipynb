{
 "cells": [
  {
   "cell_type": "markdown",
   "metadata": {},
   "source": [
    "## Extracting spectrogram of ASVSpoof 2017 data\n",
    "\n",
    "In this notebook, spectrogams for train, development and evaluation sets of ASVSpoof 2017 are extracted. The wavefiles are read one by one using the protocol files. The spectrograms are then saved to respective folders."
   ]
  },
  {
   "cell_type": "markdown",
   "metadata": {},
   "source": [
    "## Spectrograms for the train data"
   ]
  },
  {
   "cell_type": "code",
   "execution_count": 1,
   "metadata": {},
   "outputs": [
    {
     "name": "stdout",
     "output_type": "stream",
     "text": [
      "  1%|▌                                        | 40/3014 [00:07<09:28,  5.23it/s]extract_spectrogram.py:57: RuntimeWarning: divide by zero encountered in log\n",
      "  plt.pcolormesh(time, freq, np.log(spec),cmap=cmap)\n",
      "100%|███████████████████████████████████████| 3014/3014 [09:22<00:00,  5.36it/s]\n"
     ]
    }
   ],
   "source": [
    "! python3 extract_spectrogram.py -pf /home/sarfaraz/sarfaraz/phd_work/data/DS_10283_3055/protocol_V2/ASVspoof2017_V2_train.trn.txt -t train  -w /home/sarfaraz/sarfaraz/phd_work/data/DS_10283_3055/ASVspoof2017_V2_train -o /home/sarfaraz/sarfaraz/phd_work/spectrograms  "
   ]
  },
  {
   "cell_type": "code",
   "execution_count": null,
   "metadata": {},
   "outputs": [],
   "source": []
  }
 ],
 "metadata": {
  "kernelspec": {
   "display_name": "Python 3",
   "language": "python",
   "name": "python3"
  },
  "language_info": {
   "codemirror_mode": {
    "name": "ipython",
    "version": 3
   },
   "file_extension": ".py",
   "mimetype": "text/x-python",
   "name": "python",
   "nbconvert_exporter": "python",
   "pygments_lexer": "ipython3",
   "version": "3.5.2"
  }
 },
 "nbformat": 4,
 "nbformat_minor": 2
}
